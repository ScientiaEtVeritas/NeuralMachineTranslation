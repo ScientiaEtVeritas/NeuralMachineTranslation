{
 "cells": [
  {
   "cell_type": "code",
   "execution_count": 41,
   "metadata": {},
   "outputs": [],
   "source": [
    "import numpy as np\n",
    "import math"
   ]
  },
  {
   "cell_type": "code",
   "execution_count": 42,
   "metadata": {},
   "outputs": [],
   "source": [
    "%run LanguageModel.py"
   ]
  },
  {
   "cell_type": "code",
   "execution_count": 43,
   "metadata": {},
   "outputs": [],
   "source": [
    "%run DataLoader.py"
   ]
  },
  {
   "cell_type": "code",
   "execution_count": 44,
   "metadata": {},
   "outputs": [],
   "source": [
    "device = torch.device(\"cuda\" if torch.cuda.is_available() else \"cpu\")"
   ]
  },
  {
   "cell_type": "code",
   "execution_count": 45,
   "metadata": {},
   "outputs": [],
   "source": [
    "train_dl = DataLoader('train', ('de', 'en'), device = device)"
   ]
  },
  {
   "cell_type": "code",
   "execution_count": 46,
   "metadata": {},
   "outputs": [],
   "source": [
    "val_dl = DataLoader('dev', ('de', 'en'), train_dl.languageModels, device = device)"
   ]
  },
  {
   "cell_type": "code",
   "execution_count": 47,
   "metadata": {},
   "outputs": [],
   "source": [
    "%run seq2seq.py"
   ]
  },
  {
   "cell_type": "code",
   "execution_count": 48,
   "metadata": {},
   "outputs": [],
   "source": [
    "hidden_size = 256\n",
    "lm1 = train_dl.languageModels[train_dl.languages[0]]\n",
    "lm2 = train_dl.languageModels[train_dl.languages[1]]\n",
    "s2s = seq2seq(lm1.n_tokens, hidden_size, lm2.n_tokens, device)"
   ]
  },
  {
   "cell_type": "code",
   "execution_count": 49,
   "metadata": {},
   "outputs": [],
   "source": [
    "def loss_metric(input, output, ground_truth, nll):\n",
    "    return nll / ground_truth[0].size(0)\n",
    "\n",
    "def perplexity(input, output, ground_truth, nll):\n",
    "    #print(ground_truth[0].size(0), nll)\n",
    "    nll /= ground_truth[0].size(0)\n",
    "    return math.exp(nll)"
   ]
  },
  {
   "cell_type": "code",
   "execution_count": 50,
   "metadata": {},
   "outputs": [],
   "source": [
    "%run ScorePrinter.py"
   ]
  },
  {
   "cell_type": "code",
   "execution_count": 51,
   "metadata": {},
   "outputs": [],
   "source": [
    "def trainIters(epochs, print_every=1000, plot_every=100):\n",
    "    n_iters = len(train_dl)\n",
    "    score_printer = ScorePrinter(\"Training\", [('NLL', loss_metric),('Perplexity', perplexity)])\n",
    "    \n",
    "    for epoch in range(1, epochs+1):\n",
    "        score_printer.startEpoch(epoch)\n",
    "        idx_permutation = np.random.permutation(len(train_dl))[:5]\n",
    "        for i, index in enumerate(idx_permutation):\n",
    "            input_tensor, target_tensor = train_dl.tensorsFromPos(index)\n",
    "\n",
    "            loss, output_sentence = s2s.train(input_tensor, target_tensor)\n",
    "            score_printer.update(input_tensor, target_tensor, output_sentence, loss)\n",
    "            \n",
    "            if (i + 1) % print_every == 0:\n",
    "                score_printer.printAvg(print_every)\n",
    "                validate(print_every)\n",
    "        \n",
    "        score_printer.endEpoch(epoch)\n",
    "        score_printer.printAvg(len(train_dl))\n",
    "        validate()"
   ]
  },
  {
   "cell_type": "code",
   "execution_count": 52,
   "metadata": {},
   "outputs": [],
   "source": [
    "def validate(n = None):\n",
    "    score_printer = ScorePrinter(\"Validation\", [('NLL', loss_metric),('Perplexity', perplexity)])\n",
    "    n = n or len(val_dl)\n",
    "    idx_permutation_val = np.random.permutation(len(val_dl))[:n]\n",
    "    for j, val_index in enumerate(idx_permutation_val):\n",
    "        input_tensor_val, target_tensor_val = val_dl.tensorsFromPos(val_index)\n",
    "        loss, output_sentence = s2s.evaluate(input_tensor_val, target_tensor_val)\n",
    "        score_printer.update(input_tensor_val, target_tensor_val, output_sentence, loss)\n",
    "    score_printer.printAvg(showCount = False)"
   ]
  },
  {
   "cell_type": "code",
   "execution_count": null,
   "metadata": {},
   "outputs": [],
   "source": [
    "trainIters(50, print_every=2)"
   ]
  }
 ],
 "metadata": {
  "kernelspec": {
   "display_name": "Python 3",
   "language": "python",
   "name": "python3"
  },
  "language_info": {
   "codemirror_mode": {
    "name": "ipython",
    "version": 3
   },
   "file_extension": ".py",
   "mimetype": "text/x-python",
   "name": "python",
   "nbconvert_exporter": "python",
   "pygments_lexer": "ipython3",
   "version": "3.6.3"
  }
 },
 "nbformat": 4,
 "nbformat_minor": 2
}
