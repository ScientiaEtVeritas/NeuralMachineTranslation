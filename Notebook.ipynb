{
 "cells": [
  {
   "cell_type": "code",
   "execution_count": 1,
   "metadata": {},
   "outputs": [],
   "source": [
    "%run LanguageModel.py"
   ]
  },
  {
   "cell_type": "code",
   "execution_count": 2,
   "metadata": {},
   "outputs": [],
   "source": [
    "%run DataLoader.py"
   ]
  },
  {
   "cell_type": "code",
   "execution_count": 3,
   "metadata": {},
   "outputs": [],
   "source": [
    "device = torch.device(\"cuda\" if torch.cuda.is_available() else \"cpu\")"
   ]
  },
  {
   "cell_type": "code",
   "execution_count": 4,
   "metadata": {},
   "outputs": [],
   "source": [
    "train_dl = DataLoader('train', ('de', 'en'), max_length = 50, device = device)"
   ]
  },
  {
   "cell_type": "code",
   "execution_count": 5,
   "metadata": {},
   "outputs": [],
   "source": [
    "val_dl = DataLoader('dev', ('de', 'en'), languageModels = train_dl.languageModels, max_length = 50, device = device)"
   ]
  },
  {
   "cell_type": "code",
   "execution_count": 6,
   "metadata": {},
   "outputs": [],
   "source": [
    "%run seq2seq.py"
   ]
  },
  {
   "cell_type": "code",
   "execution_count": 7,
   "metadata": {},
   "outputs": [],
   "source": [
    "lm1 = train_dl.languageModels[train_dl.languages[0]]\n",
    "lm2 = train_dl.languageModels[train_dl.languages[1]]\n",
    "model_config = ModelConfig(input_size = lm1.n_tokens, beam_width = 3, hidden_size = 256, output_size = lm2.n_tokens, rnn_type='gru', bidirectional=False, attention = 'global', max_length=52)\n",
    "checkpoint = torch.load(\"./state_dict.tar\")\n",
    "s2s = seq2seq(model_config=model_config, state_dict = checkpoint, device = device)"
   ]
  },
  {
   "cell_type": "code",
   "execution_count": 8,
   "metadata": {},
   "outputs": [],
   "source": [
    "def loss_metric(input, output, ground_truth, nll):\n",
    "    return nll / ground_truth[0].size(0)\n",
    "\n",
    "def perplexity(input, output, ground_truth, nll):\n",
    "    nll /= ground_truth[0].size(0)\n",
    "    return math.exp(nll)"
   ]
  },
  {
   "cell_type": "code",
   "execution_count": 9,
   "metadata": {},
   "outputs": [],
   "source": [
    "%run ScorePrinter.py"
   ]
  },
  {
   "cell_type": "code",
   "execution_count": 10,
   "metadata": {},
   "outputs": [],
   "source": [
    "def train_epochs(epochs, print_every=1000):\n",
    "    n_iters = len(train_dl)\n",
    "    score_printer = ScorePrinter(\"Training\", [('NLL', loss_metric),('Perplexity', perplexity)])\n",
    "    \n",
    "    for epoch in range(1, epochs+1):\n",
    "        score_printer.startEpoch(epoch)\n",
    "        idx_permutation = np.random.permutation(len(train_dl))[:5]\n",
    "        for i, index in enumerate(idx_permutation):\n",
    "            input_tensor, target_tensor = train_dl.tensorsFromPos(index)\n",
    "\n",
    "            loss, output_sentence = s2s.train(input_tensor, target_tensor)\n",
    "            score_printer.update(input_tensor, target_tensor, output_sentence, loss)\n",
    "            \n",
    "            if (i + 1) % print_every == 0:\n",
    "                score_printer.printAvg(print_every)\n",
    "                validate(print_every)\n",
    "        \n",
    "        score_printer.endEpoch(epoch)\n",
    "        score_printer.printAvg(len(train_dl))\n",
    "        validate(1)\n",
    "        torch.save(s2s.state_dict(),\"./state_dict.tar\")"
   ]
  },
  {
   "cell_type": "code",
   "execution_count": 11,
   "metadata": {},
   "outputs": [],
   "source": [
    "import numpy as np\n",
    "import math\n",
    "\n",
    "def validate(n = None):\n",
    "    score_printer = ScorePrinter(\"Validation\", [('NLL', loss_metric),('Perplexity', perplexity)])\n",
    "    n = n or len(val_dl)\n",
    "    idx_permutation_val = np.random.permutation(len(val_dl))[:n]\n",
    "    for j, val_index in enumerate(idx_permutation_val):\n",
    "        input_tensor_val, target_tensor_val = val_dl.tensorsFromPos(val_index)\n",
    "        loss, output_sentence = s2s.evaluate(input_tensor_val, target_tensor_val)\n",
    "        score_printer.update(input_tensor_val, target_tensor_val, output_sentence, loss)\n",
    "    score_printer.printAvg(showCount = False)"
   ]
  },
  {
   "cell_type": "code",
   "execution_count": 12,
   "metadata": {},
   "outputs": [
    {
     "name": "stdout",
     "output_type": "stream",
     "text": [
      "\n",
      "\n",
      "Epoch 1 started\n",
      " \n",
      "[Training] 2 examples /  NLL: 10.206245742926077 Perplexity: 64349.42343453574  \n",
      "[Validation]   NLL: 5.808567667907139 Perplexity: 564.0324425961962  \n",
      "[Training] 4 examples /  NLL: 9.66403129499277 Perplexity: 36770.243221127974  \n",
      "[Validation]   NLL: 2.9710540771484375 Perplexity: 22.805190965414234 \n",
      "\n",
      "Epoch 1 ended\n",
      " \n",
      "[Training] 5 examples /  NLL: 9.349462667655768 Perplexity: 30069.30763182593  \n",
      "[Validation]   NLL: 6.386066364792158 Perplexity: 593.5173012178057 "
     ]
    }
   ],
   "source": [
    "train_epochs(1, print_every=2)"
   ]
  },
  {
   "cell_type": "code",
   "execution_count": 13,
   "metadata": {},
   "outputs": [
    {
     "data": {
      "text/plain": [
       "['SOS',\n",
       " 'verbessern',\n",
       " 'verbessern',\n",
       " 'verbessern',\n",
       " 'verbessern',\n",
       " 'verbessern',\n",
       " 'verbessern',\n",
       " 'verbessern',\n",
       " 'verbessern',\n",
       " 'verbessern',\n",
       " 'verbessern',\n",
       " 'verbessern',\n",
       " 'verbessern',\n",
       " 'verbessern',\n",
       " 'verbessern',\n",
       " 'verbessern',\n",
       " 'verbessern',\n",
       " 'verbessern',\n",
       " 'verbessern',\n",
       " 'verbessern',\n",
       " 'verbessern',\n",
       " 'verbessern',\n",
       " 'verbessern',\n",
       " 'verbessern',\n",
       " 'verbessern',\n",
       " 'verbessern',\n",
       " 'verbessern',\n",
       " 'verbessern',\n",
       " 'verbessern',\n",
       " 'verbessern',\n",
       " 'verbessern',\n",
       " 'verbessern',\n",
       " 'verbessern',\n",
       " 'verbessern',\n",
       " 'verbessern',\n",
       " 'verbessern',\n",
       " 'verbessern',\n",
       " 'verbessern',\n",
       " 'verbessern',\n",
       " 'verbessern',\n",
       " 'verbessern',\n",
       " 'verbessern',\n",
       " 'verbessern',\n",
       " 'verbessern',\n",
       " 'verbessern',\n",
       " 'verbessern',\n",
       " 'verbessern',\n",
       " 'verbessern',\n",
       " 'verbessern',\n",
       " 'verbessern',\n",
       " 'verbessern',\n",
       " 'verbessern',\n",
       " 'verbessern']"
      ]
     },
     "execution_count": 13,
     "metadata": {},
     "output_type": "execute_result"
    }
   ],
   "source": [
    "val_dl.sentenceFromTensor('de', s2s.predict(val_dl.tensorsFromPos(15)[0])[0])"
   ]
  },
  {
   "cell_type": "code",
   "execution_count": null,
   "metadata": {},
   "outputs": [],
   "source": []
  },
  {
   "cell_type": "code",
   "execution_count": null,
   "metadata": {},
   "outputs": [],
   "source": []
  }
 ],
 "metadata": {
  "kernelspec": {
   "display_name": "Python 3",
   "language": "python",
   "name": "python3"
  },
  "language_info": {
   "codemirror_mode": {
    "name": "ipython",
    "version": 3
   },
   "file_extension": ".py",
   "mimetype": "text/x-python",
   "name": "python",
   "nbconvert_exporter": "python",
   "pygments_lexer": "ipython3",
   "version": "3.6.3"
  }
 },
 "nbformat": 4,
 "nbformat_minor": 2
}
