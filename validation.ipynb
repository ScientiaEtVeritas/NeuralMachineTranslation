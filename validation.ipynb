{
 "cells": [
  {
   "cell_type": "code",
   "execution_count": null,
   "metadata": {},
   "outputs": [],
   "source": [
    "%run LanguageModel.py\n",
    "%run DataLoader.py\n",
    "%run rnn_utils.py\n",
    "%run encoder.py\n",
    "%run decoder.py\n",
    "%run seq2seq.py\n",
    "%run model_config.py\n",
    "%run metrics.py\n",
    "%run ScorePrinter.py\n",
    "import numpy as np\n",
    "import math\n",
    "import json"
   ]
  },
  {
   "cell_type": "code",
   "execution_count": null,
   "metadata": {},
   "outputs": [],
   "source": [
    "device = torch.device(\"cuda\" if torch.cuda.is_available() else \"cpu\")\n",
    "MAX_LENGTH = 50"
   ]
  },
  {
   "cell_type": "code",
   "execution_count": null,
   "metadata": {},
   "outputs": [],
   "source": [
    "train_dl = DataLoader('train', ('de', 'en'), max_length = MAX_LENGTH, filter_token = 10, device = device)\n",
    "val_dl = DataLoader('dev', ('de', 'en'), languageModels = train_dl.languageModels, max_length = MAX_LENGTH, device = device)"
   ]
  },
  {
   "cell_type": "code",
   "execution_count": null,
   "metadata": {},
   "outputs": [],
   "source": [
    "lm1 = train_dl.languageModels[train_dl.languages[0]]\n",
    "lm2 = train_dl.languageModels[train_dl.languages[1]]\n",
    "model_config = ModelConfig(input_size = lm1.n_tokens, \n",
    "                           beam_width = 3, \n",
    "                           hidden_size = 50, \n",
    "                           output_size = lm2.n_tokens, \n",
    "                           rnn_type='lstm', \n",
    "                           bidirectional = True,\n",
    "                           bidirectional_type='concat', \n",
    "                           attention = 'global_context', \n",
    "                           score = 'dot', \n",
    "                           learning_rate = 3 * 10**(-4),\n",
    "                           max_length=MAX_LENGTH+2) # +2 for SOS and EOS\n",
    "#checkpoint = None \n",
    "checkpoint = torch.load(\"./state_dict_fast_25.tar\", map_location='cpu')\n",
    "s2s = seq2seq(model_config=model_config, state_dict = checkpoint, device = device)"
   ]
  },
  {
   "cell_type": "code",
   "execution_count": null,
   "metadata": {},
   "outputs": [],
   "source": [
    "def validate(n = None):\n",
    "    score_printer = ScorePrinter(\"Validation\", [('NLL normalized', loss_metric),('Perplexity', perplexity)]) #('BLEU', bleu)\n",
    "    n = n or len(val_dl)\n",
    "    idx_permutation_val = np.random.permutation(len(val_dl))[:n]\n",
    "    score_printer.beginMeasurements()\n",
    "    for j, val_index in enumerate(idx_permutation_val):\n",
    "        input_tensor_val, target_tensor_val = val_dl.tensorsFromPos(val_index)\n",
    "        loss, output_sentence = s2s.evaluate(input_tensor_val, target_tensor_val)\n",
    "        real_target_sentence, estimated_target_sentence = val_dl.real_estimated_sentence(target_tensor_val, output_sentence)\n",
    "        print(f\"real : {real_target_sentence}, est : {estimated_target_sentence}\")\n",
    "        score_printer.update(nll = loss, target_length = target_tensor_val.size(0), real_target_sentence  = real_target_sentence, estimated_target_sentence = estimated_target_sentence)\n",
    "    score_printer.printAvg(showCount = False)\n",
    "    return score_printer.getAvgScores()"
   ]
  },
  {
   "cell_type": "code",
   "execution_count": null,
   "metadata": {},
   "outputs": [],
   "source": [
    "test_dl = DataLoader('test', ('de', 'en'), languageModels = train_dl.languageModels, max_length = MAX_LENGTH, device = device)"
   ]
  },
  {
   "cell_type": "code",
   "execution_count": null,
   "metadata": {},
   "outputs": [],
   "source": [
    "#For network evaluation:\n",
    "def evaluation():\n",
    "    score_printer = ScorePrinter(\"Validation\", [('NLL normalized', loss_metric),('Perplexity', perplexity),('BLEU', bleu)])\n",
    "    idx_permutation_val = np.random.permutation(len(test_dl))\n",
    "    score_printer.beginMeasurements()\n",
    "    for j, test_index in enumerate(idx_permutation_val):\n",
    "        input_tensor_val, target_tensor_val = test_dl.tensorsFromPos(test_index)\n",
    "        loss, output_sentence = s2s.evaluate(input_tensor_val, target_tensor_val)\n",
    "        real_target_sentence, estimated_target_sentence = test_dl.real_estimated_sentence(target_tensor_val, output_sentence)\n",
    "        score_printer.update(nll = loss, target_length = target_tensor_val.size(0), real_target_sentence  = real_target_sentence, estimated_target_sentence = estimated_target_sentence)\n",
    "    score_printer.printAvg(showCount = False)\n",
    "    evaluation_scores = score_printer.getAvgScores()\n",
    "    with open('./evaluation_scores.txt', 'a') as evaluation_file:\n",
    "        evaluation_file.write(json.dumps(evaluation_scores))\n",
    "    \n",
    "evaluation()"
   ]
  },
  {
   "cell_type": "code",
   "execution_count": 22,
   "metadata": {},
   "outputs": [],
   "source": [
    "import matplotlib.pyplot as plt\n",
    "plt.switch_backend('agg')\n",
    "import matplotlib.ticker as ticker\n",
    "\n",
    "def show_attention(input_sentence, output_sentence, attentions):\n",
    "    # Set up figure with colorbar\n",
    "    fig = plt.figure(figsize=(16, 14), dpi= 40)\n",
    "    ax = fig.add_subplot(111)\n",
    "    cax = ax.matshow(attentions, cmap='bone')\n",
    "    fig.colorbar(cax)\n",
    "    \n",
    "    ax.set_xticks(np.arange(len(input_sentence)))\n",
    "    ax.set_xticklabels(input_sentence, rotation=90)\n",
    "    ax.set_yticks(np.arange(len(output_sentence[1:])))\n",
    "    ax.set_yticklabels(output_sentence[1:]) # ignore SOS Token\n",
    "\n",
    "    plt.show()\n",
    "    fig = matplotlib.pyplot.gcf()\n",
    "    fig.savefig('Attention.png', dpi=100)"
   ]
  },
  {
   "cell_type": "code",
   "execution_count": 23,
   "metadata": {},
   "outputs": [],
   "source": [
    "import matplotlib.pyplot as plt\n",
    "import matplotlib.ticker as ticker\n",
    "import numpy as np\n",
    "import matplotlib\n",
    "%matplotlib inline\n",
    "from IPython.display import display, Markdown\n",
    "def print_validation_custom(input_sentence):\n",
    "    display(Markdown('**Eingabe**'))\n",
    "    display(Markdown(input_sentence))\n",
    "    input_sentence = input_sentence.split(\" \")\n",
    "    input_tensor = train_dl._tensorFromSentence(train_dl.languageModels[train_dl.languages[0]], input_sentence)\n",
    "    prediction = s2s.predict(input_tensor)\n",
    "    output_sentence = train_dl.sentenceFromTensor('en', prediction[0])\n",
    "    display(Markdown('**Ausgabe**'))\n",
    "    display(Markdown(\" \".join(output_sentence)))\n",
    "    attentions = torch.stack([tensor.squeeze() for tensor in prediction[2]])\n",
    "    attentions = attentions.numpy()[:len(output_sentence)-1,:len(input_sentence)]\n",
    "    display(Markdown('**Attention**'))\n",
    "    show_attention(input_sentence, output_sentence, attentions)"
   ]
  },
  {
   "cell_type": "code",
   "execution_count": 24,
   "metadata": {},
   "outputs": [
    {
     "data": {
      "text/markdown": [
       "**Eingabe**"
      ],
      "text/plain": [
       "<IPython.core.display.Markdown object>"
      ]
     },
     "metadata": {},
     "output_type": "display_data"
    },
    {
     "data": {
      "text/markdown": [
       "wir halten diese präsentation um unsere ergebnisse vorzustellen"
      ],
      "text/plain": [
       "<IPython.core.display.Markdown object>"
      ]
     },
     "metadata": {},
     "output_type": "display_data"
    },
    {
     "data": {
      "text/markdown": [
       "**Ausgabe**"
      ],
      "text/plain": [
       "<IPython.core.display.Markdown object>"
      ]
     },
     "metadata": {},
     "output_type": "display_data"
    },
    {
     "data": {
      "text/markdown": [
       "SOS we think this presentation is to to to EOS"
      ],
      "text/plain": [
       "<IPython.core.display.Markdown object>"
      ]
     },
     "metadata": {},
     "output_type": "display_data"
    },
    {
     "data": {
      "text/markdown": [
       "**Attention**"
      ],
      "text/plain": [
       "<IPython.core.display.Markdown object>"
      ]
     },
     "metadata": {},
     "output_type": "display_data"
    },
    {
     "data": {
      "image/png": "[encoded data removed]",
      "text/plain": [
       "<Figure size 640x560 with 2 Axes>"
      ]
     },
     "metadata": {
      "needs_background": "light"
     },
     "output_type": "display_data"
    },
    {
     "data": {
      "text/plain": [
       "<Figure size 432x288 with 0 Axes>"
      ]
     },
     "metadata": {},
     "output_type": "display_data"
    }
   ],
   "source": [
    "my_sentence = \"wir halten diese präsentation um unsere ergebnisse vorzustellen\"\n",
    "\n",
    "print_validation_custom(input_sentence=my_sentence)"
   ]
  },
  {
   "cell_type": "code",
   "execution_count": 25,
   "metadata": {},
   "outputs": [],
   "source": [
    "import matplotlib\n",
    "from IPython.display import display, Markdown\n",
    "def print_validation(position):\n",
    "    input_sentence = val_dl.sentenceFromTensor('de', val_dl.tensorsFromPos(position)[0])\n",
    "    display(Markdown('**Eingabe**'))\n",
    "    display(Markdown(' '.join(input_sentence)))\n",
    "    prediction = s2s.predict(val_dl.tensorsFromPos(position)[0])\n",
    "    output_sentence = val_dl.sentenceFromTensor('en', prediction[0])\n",
    "    display(Markdown('**Ausgabe**'))\n",
    "    display(Markdown(' '.join(output_sentence)))\n",
    "    attentions = torch.stack([tensor.squeeze() for tensor in prediction[2]])\n",
    "    attentions = attentions.numpy()[:len(output_sentence)-1,:len(input_sentence)]\n",
    "    display(Markdown('**Attention**'))\n",
    "    show_attention(input_sentence, output_sentence, attentions)"
   ]
  },
  {
   "cell_type": "code",
   "execution_count": 21,
   "metadata": {},
   "outputs": [],
   "source": []
  },
  {
   "cell_type": "code",
   "execution_count": 26,
   "metadata": {},
   "outputs": [
    {
     "data": {
      "text/markdown": [
       "**Eingabe**"
      ],
      "text/plain": [
       "<IPython.core.display.Markdown object>"
      ]
     },
     "metadata": {},
     "output_type": "display_data"
    },
    {
     "data": {
      "text/markdown": [
       "und dann würden sie plötzlich erkennen , wie es wäre , wenn sie ihre eigene sprache nicht sprechen könnten . EOS"
      ],
      "text/plain": [
       "<IPython.core.display.Markdown object>"
      ]
     },
     "metadata": {},
     "output_type": "display_data"
    },
    {
     "data": {
      "text/markdown": [
       "**Ausgabe**"
      ],
      "text/plain": [
       "<IPython.core.display.Markdown object>"
      ]
     },
     "metadata": {},
     "output_type": "display_data"
    },
    {
     "data": {
      "text/markdown": [
       "SOS and then you would recognize it , as it would be able to talk about their own language . EOS"
      ],
      "text/plain": [
       "<IPython.core.display.Markdown object>"
      ]
     },
     "metadata": {},
     "output_type": "display_data"
    },
    {
     "data": {
      "text/markdown": [
       "**Attention**"
      ],
      "text/plain": [
       "<IPython.core.display.Markdown object>"
      ]
     },
     "metadata": {},
     "output_type": "display_data"
    },
    {
     "data": {
      "image/png": "[encoded data removed]",
      "text/plain": [
       "<Figure size 640x560 with 2 Axes>"
      ]
     },
     "metadata": {
      "needs_background": "light"
     },
     "output_type": "display_data"
    },
    {
     "data": {
      "text/plain": [
       "<Figure size 432x288 with 0 Axes>"
      ]
     },
     "metadata": {},
     "output_type": "display_data"
    }
   ],
   "source": [
    "print_validation(32) "
   ]
  },
  {
   "cell_type": "code",
   "execution_count": null,
   "metadata": {},
   "outputs": [],
   "source": []
  }
 ],
 "metadata": {
  "kernelspec": {
   "display_name": "Python 3",
   "language": "python",
   "name": "python3"
  },
  "language_info": {
   "codemirror_mode": {
    "name": "ipython",
    "version": 3
   },
   "file_extension": ".py",
   "mimetype": "text/x-python",
   "name": "python",
   "nbconvert_exporter": "python",
   "pygments_lexer": "ipython3",
   "version": "3.6.7"
  }
 },
 "nbformat": 4,
 "nbformat_minor": 2
}
